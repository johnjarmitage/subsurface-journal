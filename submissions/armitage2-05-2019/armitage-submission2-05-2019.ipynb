{
 "cells": [
  {
   "cell_type": "markdown",
   "metadata": {
    "_cell_guid": "00b63778-674d-0a2d-e5b0-8956c5ce1770",
    "_uuid": "f83b2c315a72c906e7524c317245175106fd9b4e"
   },
   "source": [
    "## A CNN test on the classic digit recogniser problem\n",
    "\n",
    "The beginning of a simple classification problem using scikit-learn"
   ]
  },
  {
   "cell_type": "code",
   "execution_count": 1,
   "metadata": {
    "_cell_guid": "d0abbfc5-e04e-98d3-8c5c-37d114daa804",
    "_uuid": "e6c689b5845633e860af4e0139ebc99b971e1762"
   },
   "outputs": [],
   "source": [
    "%matplotlib inline\n",
    "\n",
    "import pandas as pd\n",
    "import numpy as np\n",
    "import matplotlib.pyplot as plt, matplotlib.image as mpimg\n",
    "\n",
    "from sklearn.model_selection import train_test_split\n",
    "from sklearn.neural_network import MLPClassifier"
   ]
  },
  {
   "cell_type": "markdown",
   "metadata": {},
   "source": [
    "Lets load the data, but only part of it to save my wee old laptop from burning out."
   ]
  },
  {
   "cell_type": "code",
   "execution_count": 2,
   "metadata": {
    "_cell_guid": "e8c0e206-f504-253f-8ac6-2c50eff06b58",
    "_uuid": "072961c1b2a1ef34b534a13bccf030a36250a6fa"
   },
   "outputs": [],
   "source": [
    "labeled_images = pd.read_csv('train.csv')\n",
    "images = labeled_images.iloc[1:100,1:]\n",
    "labels = labeled_images.iloc[1:100,:1]\n",
    "train_images, test_images,train_labels, test_labels = train_test_split(images, labels, train_size=0.8, test_size=0.2, random_state=0)"
   ]
  },
  {
   "cell_type": "markdown",
   "metadata": {
    "_cell_guid": "caa9e676-3656-5509-0aa4-a503437f727f",
    "_uuid": "02d4e04a3d369c9a658334402dfcc4b84db5c0d1"
   },
   "source": [
    "Look at an image, and notice that in this dataset the images are flattened already."
   ]
  },
  {
   "cell_type": "code",
   "execution_count": 3,
   "metadata": {
    "_cell_guid": "dc43b65b-d3d9-8208-e7a2-88c2535b506f",
    "_uuid": "2760d78352d20c5b89d8db1f384fd53dce24f12e"
   },
   "outputs": [
    {
     "data": {
      "image/png": "[encoded data removed]",
      "text/plain": [
       "<Figure size 432x288 with 1 Axes>"
      ]
     },
     "metadata": {
      "needs_background": "light"
     },
     "output_type": "display_data"
    }
   ],
   "source": [
    "i=1\n",
    "img=np.array(train_images.iloc[i])\n",
    "img=img.reshape((28,28))\n",
    "plt.imshow(img,cmap='gray')\n",
    "plt.title(train_labels.iloc[i,0])\n",
    "plt.show()"
   ]
  },
  {
   "cell_type": "markdown",
   "metadata": {},
   "source": [
    "Feature scaling"
   ]
  },
  {
   "cell_type": "code",
   "execution_count": 4,
   "metadata": {},
   "outputs": [],
   "source": [
    "Xtrain = np.array(train_images)\n",
    "mean_px = Xtrain.mean()\n",
    "std_px = Xtrain.std()\n",
    "Xtrain = (Xtrain - mean_px)/std_px\n",
    "Xtest = np.array(test_images)\n",
    "mean_px = Xtest.mean()\n",
    "std_px = Xtest.std()\n",
    "Xtest = (Xtest - mean_px)/std_px\n",
    "\n",
    "ytrain = train_labels\n",
    "ytest = test_labels"
   ]
  },
  {
   "cell_type": "markdown",
   "metadata": {
    "_uuid": "d43220552264ead15b836d41cda30e7b0d003f3c"
   },
   "source": [
    "Here is a MLP neural network from scikit-learn, using 4 layers of 128 neurons"
   ]
  },
  {
   "cell_type": "code",
   "execution_count": 7,
   "metadata": {
    "_uuid": "6327b82381752f90fe39f9d33095ed04706f08a8"
   },
   "outputs": [
    {
     "name": "stdout",
     "output_type": "stream",
     "text": [
      "0.2\n"
     ]
    }
   ],
   "source": [
    "clf = MLPClassifier(solver='lbfgs', alpha=1e-4, hidden_layer_sizes=(128, 4), random_state=1)\n",
    "clf.fit(Xtrain,train_labels.values.ravel())\n",
    "print(clf.score(Xtest,test_labels))"
   ]
  },
  {
   "cell_type": "code",
   "execution_count": null,
   "metadata": {},
   "outputs": [],
   "source": []
  }
 ],
 "metadata": {
  "_change_revision": 0,
  "_is_fork": false,
  "kernelspec": {
   "display_name": "Python 3",
   "language": "python",
   "name": "python3"
  },
  "language_info": {
   "codemirror_mode": {
    "name": "ipython",
    "version": 3
   },
   "file_extension": ".py",
   "mimetype": "text/x-python",
   "name": "python",
   "nbconvert_exporter": "python",
   "pygments_lexer": "ipython3",
   "version": "3.6.8"
  }
 },
 "nbformat": 4,
 "nbformat_minor": 1
}
