{
 "cells": [
  {
   "cell_type": "markdown",
   "metadata": {},
   "source": [
    "## Solving for thermal advection and diffusion in 2D using the Fenics library\n",
    "\n",
    "John J. Armitage\n",
    "\n",
    "Abstract:\n",
    "This is an enxample note book to explore if we can make a submission process for a subsurface online reproducable journal. This notebook has been written to solve classic advection diffusion. The notebook uses for packages: fenics, mshr, and numpy.\n",
    "\n",
    "Introduction:\n",
    "This is an example of using the fenics library to solve for the thermal advection and diffusion in two dimensions. The equations are solved using the finite element technique within a cartesian box. The velocity of the material within the box is predefined ans a linear function of space. The aim of this notebook is simply to explore how to deal with such a notebook and how to test it for reproducability."
   ]
  },
  {
   "cell_type": "code",
   "execution_count": 1,
   "metadata": {},
   "outputs": [],
   "source": [
    "%matplotlib inline\n",
    "# I need to list all the funtions I use rather than a *\n",
    "from fenics import Constant,Point,plot,FunctionSpace,VectorFunctionSpace,Expression,interpolate,SubDomain, \\\n",
    "                   DirichletBC,near,TrialFunction,TestFunction,Expression,dx,dot,grad,lhs,rhs,solve,Function\n",
    "from mshr import Rectangle,generate_mesh\n",
    "import numpy as np\n",
    "import matplotlib.pyplot as plt"
   ]
  },
  {
   "cell_type": "markdown",
   "metadata": {},
   "source": [
    "conda install -c conda-forge fenics\n",
    "\n",
    "conda install -c conda-forge mshr"
   ]
  },
  {
   "cell_type": "markdown",
   "metadata": {},
   "source": [
    "I will set up the domain dimensions for the rectanular box and the model resolution."
   ]
  },
  {
   "cell_type": "code",
   "execution_count": 2,
   "metadata": {},
   "outputs": [],
   "source": [
    "# Domain dimensions in meters\n",
    "lx = 1.5e5\n",
    "lz = 1.0e5\n",
    "# number of elements along z-edge\n",
    "numz = 32 "
   ]
  },
  {
   "cell_type": "markdown",
   "metadata": {},
   "source": [
    "Here I define the physical parameters that are used within the model and the time stepping for the numerical solution."
   ]
  },
  {
   "cell_type": "code",
   "execution_count": 3,
   "metadata": {},
   "outputs": [],
   "source": [
    "# Physical parameters\n",
    "year      = 365*24*60*60\n",
    "K         = 1e-6  # thermal diffusivity\n",
    "\n",
    "# Time steps\n",
    "num_steps = 20       # number of time steps\n",
    "dtnom     = 1e5*year   # time step size (in years)\n",
    "dtc       = Constant(dtnom) "
   ]
  },
  {
   "cell_type": "markdown",
   "metadata": {},
   "source": [
    "Now I am ready to define and solve the set of equations. The first step is to create the mesh using the library mshr and display the mesh."
   ]
  },
  {
   "cell_type": "code",
   "execution_count": null,
   "metadata": {},
   "outputs": [],
   "source": [
    "# Create mesh and define function space\n",
    "domain = Rectangle(Point(0,0), Point(lx,lz))\n",
    "mesh = generate_mesh(domain,numz)\n",
    "p = plot(mesh)\n",
    "plt.title(\"Mesh\")\n",
    "plt.show()"
   ]
  },
  {
   "cell_type": "markdown",
   "metadata": {},
   "source": [
    "Then define the functions in which temperature and velocity will be stored."
   ]
  },
  {
   "cell_type": "code",
   "execution_count": null,
   "metadata": {},
   "outputs": [],
   "source": [
    "# Define function space for temperature\n",
    "V = FunctionSpace(mesh,'CG',1)\n",
    "# Define function space for velocity\n",
    "W = VectorFunctionSpace(mesh,'P',2)"
   ]
  },
  {
   "cell_type": "markdown",
   "metadata": {},
   "source": [
    "Define the intial conditions"
   ]
  },
  {
   "cell_type": "code",
   "execution_count": null,
   "metadata": {},
   "outputs": [],
   "source": [
    "T_D = Expression('x[1]>=lz-10e3 ? 1450 : 0',lz=lz,degree=2)\n",
    "T_n = interpolate(T_D, V)"
   ]
  },
  {
   "cell_type": "markdown",
   "metadata": {},
   "source": [
    "Create the boundary conditions"
   ]
  },
  {
   "cell_type": "code",
   "execution_count": null,
   "metadata": {},
   "outputs": [],
   "source": [
    "class East(SubDomain):\n",
    "    def inside(self, x , on_boundary):\n",
    "       return near(x[0], lx)\n",
    "\n",
    "class West(SubDomain):\n",
    "    def inside(self, x , on_boundary):\n",
    "       return near(x[0], 0.0)\n",
    "\n",
    "class North(SubDomain):\n",
    "    def inside(self, x , on_boundary):\n",
    "       return near(x[1], lz)\n",
    "\n",
    "class South(SubDomain):\n",
    "    def inside(self, x , on_boundary):\n",
    "       return near(x[1], 0.0)\n",
    "\n",
    "Tbc = DirichletBC(V,T_D,North())"
   ]
  },
  {
   "cell_type": "markdown",
   "metadata": {},
   "source": [
    "We then define the test and trial functions."
   ]
  },
  {
   "cell_type": "code",
   "execution_count": null,
   "metadata": {},
   "outputs": [],
   "source": [
    "# Define variational problem\n",
    "\n",
    "#T Temperature\n",
    "T = TrialFunction(V)\n",
    "vt = TestFunction(V)"
   ]
  },
  {
   "cell_type": "markdown",
   "metadata": {},
   "source": [
    "The velocity of the material is defined as linarly increasing in the x direction and decreasing in the positive z direction."
   ]
  },
  {
   "cell_type": "code",
   "execution_count": null,
   "metadata": {},
   "outputs": [],
   "source": [
    "# solid flow\n",
    "u = Expression(('1e-2/year/lz*(lz-x[1])','-1e-2/year/lz*(lx-x[0])'),year=year,lz=lz,lx=lx,degree=2)"
   ]
  },
  {
   "cell_type": "markdown",
   "metadata": {},
   "source": [
    "Finally we form the PDE to be solved."
   ]
  },
  {
   "cell_type": "code",
   "execution_count": null,
   "metadata": {},
   "outputs": [],
   "source": [
    "# PDE for temperature\n",
    "Ft = ((T-T_n)/dtc)*vt*dx + dot(u,grad(T))*vt*dx + K*dot(grad(T),grad(vt))*dx\n",
    "a1, L1 = lhs(Ft), rhs(Ft)"
   ]
  },
  {
   "cell_type": "markdown",
   "metadata": {},
   "source": [
    "We now use a for loop to march forward in time to solve for temperature."
   ]
  },
  {
   "cell_type": "code",
   "execution_count": null,
   "metadata": {
    "scrolled": true
   },
   "outputs": [],
   "source": [
    "# Time-stepping\n",
    "T = Function(V)\n",
    "#phi = Function(V)\n",
    "t = 0\n",
    "for n in range(num_steps):\n",
    "\n",
    "    # Update current time\n",
    "    t += dtc\n",
    "      \n",
    "    # Compute solution\n",
    "    # solve(Ft == 0, T)\n",
    "    solve(a1 == L1, T, Tbc)\n",
    "             \n",
    "    # Update previous solution\n",
    "    T_n.assign(T)             "
   ]
  },
  {
   "cell_type": "markdown",
   "metadata": {},
   "source": [
    "The final temperature field is then plotted below."
   ]
  },
  {
   "cell_type": "code",
   "execution_count": null,
   "metadata": {},
   "outputs": [],
   "source": [
    "p = plot(T)\n",
    "# set colormap\n",
    "p.set_cmap(\"viridis\")\n",
    "p.set_clim(0,1450)\n",
    "# add a title to the plot\n",
    "plt.title(\"Temperature\")\n",
    "# add a colorbar\n",
    "plt.colorbar(p)\n",
    "plt.ylim(100000,0)\n",
    "plt.show()"
   ]
  },
  {
   "cell_type": "code",
   "execution_count": null,
   "metadata": {},
   "outputs": [],
   "source": []
  }
 ],
 "metadata": {
  "kernelspec": {
   "display_name": "Python 3",
   "language": "python",
   "name": "python3"
  },
  "language_info": {
   "codemirror_mode": {
    "name": "ipython",
    "version": 3
   },
   "file_extension": ".py",
   "mimetype": "text/x-python",
   "name": "python",
   "nbconvert_exporter": "python",
   "pygments_lexer": "ipython3",
   "version": "3.7.2"
  }
 },
 "nbformat": 4,
 "nbformat_minor": 2
}
